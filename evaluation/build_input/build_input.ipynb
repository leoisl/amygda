{
 "cells": [
  {
   "cell_type": "code",
   "execution_count": null,
   "metadata": {},
   "outputs": [],
   "source": [
    "import pandas as pd"
   ]
  },
  {
   "cell_type": "code",
   "execution_count": null,
   "metadata": {},
   "outputs": [],
   "source": [
    "manual_classification = pd.read_csv(\"output_Einstein_second_lot_of_images_apr20_wells.csv\")\n",
    "manual_classification[\"plate\"] = manual_classification[\"well_path\"].apply(lambda well_path: well_path.split(\"/\")[3].split(\"_\")[0])\n",
    "manual_classification[\"well\"] = manual_classification[\"well_path\"].apply(lambda well_path: well_path.split(\"/\")[3].split(\"_\")[1][:-4])\n",
    "manual_classification"
   ]
  },
  {
   "cell_type": "code",
   "execution_count": null,
   "metadata": {},
   "outputs": [],
   "source": [
    "translation = pd.read_csv(\"all_plates.translation.csv\")\n",
    "translation[\"plate\"] = translation[\"anonymous_plate_path_dir_well_split\"].apply(lambda path: path.split(\"/\")[-1])\n",
    "translation"
   ]
  },
  {
   "cell_type": "code",
   "execution_count": null,
   "metadata": {},
   "outputs": [],
   "source": [
    "merged = manual_classification.merge(translation, on=\"plate\")\n",
    "merged"
   ]
  },
  {
   "cell_type": "code",
   "execution_count": null,
   "metadata": {},
   "outputs": [],
   "source": [
    "# fix so that we can merge easily with the pipeline csv\n",
    "merged[\"image_filename\"] = merged[\"original_plate_path_file\"].apply(lambda path: path.split(\"/\")[-1].replace(\"-raw.png\", \"\"))\n",
    "merged[\"method\"] = \"manual\"\n",
    "merged"
   ]
  },
  {
   "cell_type": "code",
   "execution_count": null,
   "metadata": {},
   "outputs": [],
   "source": [
    "merged = merged[[\"original_plate_path_file\", \"image_filename\", \"method\", \"growth\", \"well\"]]\n",
    "merged"
   ]
  },
  {
   "cell_type": "code",
   "execution_count": null,
   "metadata": {},
   "outputs": [],
   "source": [
    "merged.to_csv(\"input_unfiltered.csv\", index=False)"
   ]
  },
  {
   "cell_type": "code",
   "execution_count": null,
   "metadata": {},
   "outputs": [],
   "source": [
    "image_filenames_that_worked_df = pd.read_csv(\"image_filenames_that_worked_on_both.csv\")\n",
    "image_filenames_that_worked_df"
   ]
  },
  {
   "cell_type": "code",
   "execution_count": null,
   "metadata": {},
   "outputs": [],
   "source": [
    "# filter to those that worked\n",
    "merged = merged.merge(image_filenames_that_worked_df, on=\"image_filename\")\n",
    "merged"
   ]
  },
  {
   "cell_type": "code",
   "execution_count": null,
   "metadata": {},
   "outputs": [],
   "source": [
    "merged.to_csv(\"input_filtered.csv\", index=False)"
   ]
  }
 ],
 "metadata": {
  "kernelspec": {
   "display_name": "Python 3",
   "language": "python",
   "name": "python3"
  },
  "language_info": {
   "codemirror_mode": {
    "name": "ipython",
    "version": 3
   },
   "file_extension": ".py",
   "mimetype": "text/x-python",
   "name": "python",
   "nbconvert_exporter": "python",
   "pygments_lexer": "ipython3",
   "version": "3.7.3"
  }
 },
 "nbformat": 4,
 "nbformat_minor": 4
}
